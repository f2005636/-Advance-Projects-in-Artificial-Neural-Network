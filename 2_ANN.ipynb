{
 "cells": [
  {
   "cell_type": "markdown",
   "metadata": {},
   "source": [
    "# ANN"
   ]
  },
  {
   "cell_type": "code",
   "execution_count": 1,
   "metadata": {},
   "outputs": [
    {
     "name": "stderr",
     "output_type": "stream",
     "text": [
      "C:\\Users\\admin\\Anaconda3\\envs\\tensorflow\\lib\\site-packages\\h5py\\__init__.py:36: FutureWarning: Conversion of the second argument of issubdtype from `float` to `np.floating` is deprecated. In future, it will be treated as `np.float64 == np.dtype(float).type`.\n",
      "  from ._conv import register_converters as _register_converters\n",
      "Using TensorFlow backend.\n"
     ]
    }
   ],
   "source": [
    "import numpy as np\n",
    "import pandas as pd\n",
    "import matplotlib.pyplot as plt\n",
    "%matplotlib inline \n",
    "\n",
    "from sklearn.preprocessing import LabelEncoder, OneHotEncoder\n",
    "from sklearn.model_selection import train_test_split\n",
    "from sklearn.preprocessing import StandardScaler\n",
    "from sklearn.metrics import confusion_matrix\n",
    "\n",
    "import keras\n",
    "from keras.models import Sequential \n",
    "from keras.layers import Dense"
   ]
  },
  {
   "cell_type": "markdown",
   "metadata": {},
   "source": [
    "** Read Data **"
   ]
  },
  {
   "cell_type": "code",
   "execution_count": 2,
   "metadata": {},
   "outputs": [
    {
     "name": "stdout",
     "output_type": "stream",
     "text": [
      "<class 'pandas.core.frame.DataFrame'>\n",
      "RangeIndex: 10000 entries, 0 to 9999\n",
      "Data columns (total 14 columns):\n",
      "RowNumber          10000 non-null int64\n",
      "CustomerId         10000 non-null int64\n",
      "Surname            10000 non-null object\n",
      "CreditScore        10000 non-null int64\n",
      "Geography          10000 non-null object\n",
      "Gender             10000 non-null object\n",
      "Age                10000 non-null int64\n",
      "Tenure             10000 non-null int64\n",
      "Balance            10000 non-null float64\n",
      "NumOfProducts      10000 non-null int64\n",
      "HasCrCard          10000 non-null int64\n",
      "IsActiveMember     10000 non-null int64\n",
      "EstimatedSalary    10000 non-null float64\n",
      "Exited             10000 non-null int64\n",
      "dtypes: float64(2), int64(9), object(3)\n",
      "memory usage: 1.1+ MB\n"
     ]
    }
   ],
   "source": [
    "data = pd.read_csv('2_Churn_Modelling.csv')\n",
    "data.info()"
   ]
  },
  {
   "cell_type": "markdown",
   "metadata": {},
   "source": [
    "** Predict if the user will buy SUV based on Age and EstimatedSalary **"
   ]
  },
  {
   "cell_type": "code",
   "execution_count": 3,
   "metadata": {},
   "outputs": [],
   "source": [
    "x = data.iloc[:,3:13].values\n",
    "y = data.iloc[:,13].values"
   ]
  },
  {
   "cell_type": "markdown",
   "metadata": {},
   "source": [
    "** One Hot Encoding ** "
   ]
  },
  {
   "cell_type": "code",
   "execution_count": 4,
   "metadata": {},
   "outputs": [],
   "source": [
    "le1 = LabelEncoder()\n",
    "x[:,1] = le1.fit_transform(x[:,1])\n",
    "le2 = LabelEncoder()\n",
    "x[:,2] = le2.fit_transform(x[:,2])"
   ]
  },
  {
   "cell_type": "code",
   "execution_count": 5,
   "metadata": {},
   "outputs": [],
   "source": [
    "ohe = OneHotEncoder(categorical_features=[1])\n",
    "x = ohe.fit_transform(x).toarray()\n",
    "x = x[:,1:]"
   ]
  },
  {
   "cell_type": "markdown",
   "metadata": {},
   "source": [
    "** Split the data **"
   ]
  },
  {
   "cell_type": "code",
   "execution_count": 6,
   "metadata": {},
   "outputs": [],
   "source": [
    "x_train, x_test, y_train, y_test = train_test_split(x, y, test_size=0.25, random_state = 0)"
   ]
  },
  {
   "cell_type": "markdown",
   "metadata": {},
   "source": [
    "** Feature Scaling **"
   ]
  },
  {
   "cell_type": "code",
   "execution_count": 7,
   "metadata": {},
   "outputs": [],
   "source": [
    "sc = StandardScaler()\n",
    "x_train = sc.fit_transform(x_train)\n",
    "x_test = sc.transform(x_test)"
   ]
  },
  {
   "cell_type": "markdown",
   "metadata": {},
   "source": [
    "** ANN **"
   ]
  },
  {
   "cell_type": "code",
   "execution_count": 8,
   "metadata": {},
   "outputs": [
    {
     "name": "stderr",
     "output_type": "stream",
     "text": [
      "C:\\Users\\admin\\Anaconda3\\envs\\tensorflow\\lib\\site-packages\\ipykernel_launcher.py:2: UserWarning: Update your `Dense` call to the Keras 2 API: `Dense(kernel_initializer=\"uniform\", activation=\"relu\", units=6, input_dim=11)`\n",
      "  \n",
      "C:\\Users\\admin\\Anaconda3\\envs\\tensorflow\\lib\\site-packages\\ipykernel_launcher.py:3: UserWarning: Update your `Dense` call to the Keras 2 API: `Dense(kernel_initializer=\"uniform\", units=6, activation=\"relu\")`\n",
      "  This is separate from the ipykernel package so we can avoid doing imports until\n",
      "C:\\Users\\admin\\Anaconda3\\envs\\tensorflow\\lib\\site-packages\\ipykernel_launcher.py:4: UserWarning: Update your `Dense` call to the Keras 2 API: `Dense(kernel_initializer=\"uniform\", units=1, activation=\"sigmoid\")`\n",
      "  after removing the cwd from sys.path.\n"
     ]
    }
   ],
   "source": [
    "classifier = Sequential()\n",
    "classifier.add(Dense(output_dim = 6, init = 'uniform', activation = 'relu', input_dim = 11))\n",
    "classifier.add(Dense(output_dim = 6, init = 'uniform', activation = 'relu'))\n",
    "classifier.add(Dense(output_dim = 1, init = 'uniform', activation = 'sigmoid'))"
   ]
  },
  {
   "cell_type": "code",
   "execution_count": 9,
   "metadata": {},
   "outputs": [],
   "source": [
    "classifier.compile(optimizer='adam', loss='binary_crossentropy', metrics=['accuracy'])"
   ]
  },
  {
   "cell_type": "markdown",
   "metadata": {},
   "source": [
    "** Fitting the model **"
   ]
  },
  {
   "cell_type": "code",
   "execution_count": 10,
   "metadata": {},
   "outputs": [
    {
     "name": "stderr",
     "output_type": "stream",
     "text": [
      "C:\\Users\\admin\\Anaconda3\\envs\\tensorflow\\lib\\site-packages\\keras\\models.py:981: UserWarning: The `nb_epoch` argument in `fit` has been renamed `epochs`.\n",
      "  warnings.warn('The `nb_epoch` argument in `fit` '\n"
     ]
    },
    {
     "name": "stdout",
     "output_type": "stream",
     "text": [
      "Epoch 1/100\n",
      "7500/7500 [==============================] - 3s 374us/step - loss: 0.4956 - acc: 0.7971\n",
      "Epoch 2/100\n",
      "7500/7500 [==============================] - 3s 383us/step - loss: 0.4103 - acc: 0.8253\n",
      "Epoch 3/100\n",
      "7500/7500 [==============================] - 2s 258us/step - loss: 0.3969 - acc: 0.8304\n",
      "Epoch 4/100\n",
      "7500/7500 [==============================] - 2s 271us/step - loss: 0.3889 - acc: 0.8299\n",
      "Epoch 5/100\n",
      "7500/7500 [==============================] - 2s 285us/step - loss: 0.3829 - acc: 0.8321\n",
      "Epoch 6/100\n",
      "7500/7500 [==============================] - 2s 253us/step - loss: 0.3770 - acc: 0.8315\n",
      "Epoch 7/100\n",
      "7500/7500 [==============================] - 2s 291us/step - loss: 0.3725 - acc: 0.8437\n",
      "Epoch 8/100\n",
      "7500/7500 [==============================] - 2s 246us/step - loss: 0.3692 - acc: 0.8475\n",
      "Epoch 9/100\n",
      "7500/7500 [==============================] - 2s 287us/step - loss: 0.3664 - acc: 0.8499\n",
      "Epoch 10/100\n",
      "7500/7500 [==============================] - 2s 254us/step - loss: 0.3642 - acc: 0.8521\n",
      "Epoch 11/100\n",
      "7500/7500 [==============================] - 2s 317us/step - loss: 0.3629 - acc: 0.8523\n",
      "Epoch 12/100\n",
      "7500/7500 [==============================] - 3s 337us/step - loss: 0.3608 - acc: 0.8537 5s - loss: 0.3385 - acc: 0\n",
      "Epoch 13/100\n",
      "7500/7500 [==============================] - 3s 342us/step - loss: 0.3597 - acc: 0.8549\n",
      "Epoch 14/100\n",
      "7500/7500 [==============================] - 2s 284us/step - loss: 0.3583 - acc: 0.8531\n",
      "Epoch 15/100\n",
      "7500/7500 [==============================] - 2s 283us/step - loss: 0.3578 - acc: 0.8545\n",
      "Epoch 16/100\n",
      "7500/7500 [==============================] - 2s 291us/step - loss: 0.3571 - acc: 0.8533\n",
      "Epoch 17/100\n",
      "7500/7500 [==============================] - 2s 310us/step - loss: 0.3565 - acc: 0.8528\n",
      "Epoch 18/100\n",
      "7500/7500 [==============================] - ETA: 0s - loss: 0.3552 - acc: 0.853 - 2s 299us/step - loss: 0.3551 - acc: 0.8537\n",
      "Epoch 19/100\n",
      "7500/7500 [==============================] - 3s 337us/step - loss: 0.3550 - acc: 0.8549\n",
      "Epoch 20/100\n",
      "7500/7500 [==============================] - 2s 290us/step - loss: 0.3551 - acc: 0.8564\n",
      "Epoch 21/100\n",
      "7500/7500 [==============================] - 2s 267us/step - loss: 0.3544 - acc: 0.8552\n",
      "Epoch 22/100\n",
      "7500/7500 [==============================] - 2s 245us/step - loss: 0.3530 - acc: 0.8557\n",
      "Epoch 23/100\n",
      "7500/7500 [==============================] - 2s 263us/step - loss: 0.3525 - acc: 0.8557\n",
      "Epoch 24/100\n",
      "7500/7500 [==============================] - 2s 254us/step - loss: 0.3523 - acc: 0.8567\n",
      "Epoch 25/100\n",
      "7500/7500 [==============================] - 2s 303us/step - loss: 0.3509 - acc: 0.8581\n",
      "Epoch 26/100\n",
      "7500/7500 [==============================] - 2s 268us/step - loss: 0.3500 - acc: 0.8565\n",
      "Epoch 27/100\n",
      "7500/7500 [==============================] - 2s 275us/step - loss: 0.3498 - acc: 0.8587\n",
      "Epoch 28/100\n",
      "7500/7500 [==============================] - 2s 264us/step - loss: 0.3479 - acc: 0.8597\n",
      "Epoch 29/100\n",
      "7500/7500 [==============================] - 2s 252us/step - loss: 0.3488 - acc: 0.8564\n",
      "Epoch 30/100\n",
      "7500/7500 [==============================] - 2s 311us/step - loss: 0.3473 - acc: 0.8587\n",
      "Epoch 31/100\n",
      "7500/7500 [==============================] - 2s 304us/step - loss: 0.3472 - acc: 0.8573\n",
      "Epoch 32/100\n",
      "7500/7500 [==============================] - 2s 267us/step - loss: 0.3473 - acc: 0.8589\n",
      "Epoch 33/100\n",
      "7500/7500 [==============================] - 2s 262us/step - loss: 0.3465 - acc: 0.8583\n",
      "Epoch 34/100\n",
      "7500/7500 [==============================] - 2s 272us/step - loss: 0.3457 - acc: 0.8568\n",
      "Epoch 35/100\n",
      "7500/7500 [==============================] - 2s 241us/step - loss: 0.3446 - acc: 0.8587\n",
      "Epoch 36/100\n",
      "7500/7500 [==============================] - 2s 263us/step - loss: 0.3453 - acc: 0.8573\n",
      "Epoch 37/100\n",
      "7500/7500 [==============================] - 2s 255us/step - loss: 0.3437 - acc: 0.8596\n",
      "Epoch 38/100\n",
      "7500/7500 [==============================] - 2s 282us/step - loss: 0.3441 - acc: 0.8587\n",
      "Epoch 39/100\n",
      "7500/7500 [==============================] - 2s 238us/step - loss: 0.3444 - acc: 0.8576\n",
      "Epoch 40/100\n",
      "7500/7500 [==============================] - 2s 232us/step - loss: 0.3428 - acc: 0.8607\n",
      "Epoch 41/100\n",
      "7500/7500 [==============================] - 2s 323us/step - loss: 0.3427 - acc: 0.8620\n",
      "Epoch 42/100\n",
      "7500/7500 [==============================] - 2s 264us/step - loss: 0.3421 - acc: 0.8595\n",
      "Epoch 43/100\n",
      "7500/7500 [==============================] - 2s 272us/step - loss: 0.3427 - acc: 0.8591\n",
      "Epoch 44/100\n",
      "7500/7500 [==============================] - 2s 318us/step - loss: 0.3415 - acc: 0.8601\n",
      "Epoch 45/100\n",
      "7500/7500 [==============================] - 2s 305us/step - loss: 0.3418 - acc: 0.8615\n",
      "Epoch 46/100\n",
      "7500/7500 [==============================] - 2s 281us/step - loss: 0.3414 - acc: 0.8596\n",
      "Epoch 47/100\n",
      "7500/7500 [==============================] - 2s 267us/step - loss: 0.3403 - acc: 0.8596\n",
      "Epoch 48/100\n",
      "7500/7500 [==============================] - 2s 277us/step - loss: 0.3400 - acc: 0.8611\n",
      "Epoch 49/100\n",
      "7500/7500 [==============================] - 2s 282us/step - loss: 0.3407 - acc: 0.8615\n",
      "Epoch 50/100\n",
      "7500/7500 [==============================] - 2s 292us/step - loss: 0.3390 - acc: 0.8599\n",
      "Epoch 51/100\n",
      "7500/7500 [==============================] - 2s 280us/step - loss: 0.3381 - acc: 0.8608\n",
      "Epoch 52/100\n",
      "7500/7500 [==============================] - 2s 249us/step - loss: 0.3386 - acc: 0.8627\n",
      "Epoch 53/100\n",
      "7500/7500 [==============================] - 2s 249us/step - loss: 0.3388 - acc: 0.8597\n",
      "Epoch 54/100\n",
      "7500/7500 [==============================] - 2s 238us/step - loss: 0.3385 - acc: 0.8624\n",
      "Epoch 55/100\n",
      "7500/7500 [==============================] - 2s 246us/step - loss: 0.3377 - acc: 0.8600\n",
      "Epoch 56/100\n",
      "7500/7500 [==============================] - 2s 247us/step - loss: 0.3377 - acc: 0.8612\n",
      "Epoch 57/100\n",
      "7500/7500 [==============================] - 2s 259us/step - loss: 0.3383 - acc: 0.8607\n",
      "Epoch 58/100\n",
      "7500/7500 [==============================] - 2s 259us/step - loss: 0.3377 - acc: 0.8615\n",
      "Epoch 59/100\n",
      "7500/7500 [==============================] - 2s 264us/step - loss: 0.3373 - acc: 0.8605\n",
      "Epoch 60/100\n",
      "7500/7500 [==============================] - 2s 263us/step - loss: 0.3377 - acc: 0.8615\n",
      "Epoch 61/100\n",
      "7500/7500 [==============================] - 2s 276us/step - loss: 0.3371 - acc: 0.8597\n",
      "Epoch 62/100\n",
      "7500/7500 [==============================] - 2s 272us/step - loss: 0.3368 - acc: 0.8591\n",
      "Epoch 63/100\n",
      "7500/7500 [==============================] - 3s 334us/step - loss: 0.3373 - acc: 0.8604 1s - loss: 0.3482 - acc: 0.849 - ETA: 1s - los\n",
      "Epoch 64/100\n",
      "7500/7500 [==============================] - 3s 360us/step - loss: 0.3371 - acc: 0.8599\n",
      "Epoch 65/100\n",
      "7500/7500 [==============================] - ETA: 0s - loss: 0.3364 - acc: 0.861 - 2s 284us/step - loss: 0.3363 - acc: 0.8612\n",
      "Epoch 66/100\n",
      "7500/7500 [==============================] - 2s 266us/step - loss: 0.3364 - acc: 0.8608\n",
      "Epoch 67/100\n",
      "7500/7500 [==============================] - 2s 275us/step - loss: 0.3369 - acc: 0.8629\n",
      "Epoch 68/100\n",
      "7500/7500 [==============================] - 2s 253us/step - loss: 0.3374 - acc: 0.8611\n",
      "Epoch 69/100\n",
      "7500/7500 [==============================] - 2s 270us/step - loss: 0.3366 - acc: 0.8611\n",
      "Epoch 70/100\n",
      "7500/7500 [==============================] - 3s 339us/step - loss: 0.3367 - acc: 0.8613\n",
      "Epoch 71/100\n",
      "7500/7500 [==============================] - 2s 300us/step - loss: 0.3372 - acc: 0.8613\n",
      "Epoch 72/100\n",
      "7500/7500 [==============================] - 3s 344us/step - loss: 0.3364 - acc: 0.8599\n",
      "Epoch 73/100\n",
      "7500/7500 [==============================] - 2s 229us/step - loss: 0.3361 - acc: 0.8621\n",
      "Epoch 74/100\n",
      "7500/7500 [==============================] - 2s 332us/step - loss: 0.3361 - acc: 0.8616\n",
      "Epoch 75/100\n",
      "7500/7500 [==============================] - 2s 321us/step - loss: 0.3363 - acc: 0.8632\n",
      "Epoch 76/100\n",
      "7500/7500 [==============================] - 2s 267us/step - loss: 0.3353 - acc: 0.8603\n",
      "Epoch 77/100\n",
      "7500/7500 [==============================] - 2s 259us/step - loss: 0.3354 - acc: 0.8617\n",
      "Epoch 78/100\n",
      "7500/7500 [==============================] - 2s 263us/step - loss: 0.3363 - acc: 0.8624\n",
      "Epoch 79/100\n",
      "7500/7500 [==============================] - 2s 270us/step - loss: 0.3359 - acc: 0.8631\n",
      "Epoch 80/100\n"
     ]
    },
    {
     "name": "stdout",
     "output_type": "stream",
     "text": [
      "7500/7500 [==============================] - 2s 316us/step - loss: 0.3353 - acc: 0.8621\n",
      "Epoch 81/100\n",
      "7500/7500 [==============================] - 2s 304us/step - loss: 0.3348 - acc: 0.8643\n",
      "Epoch 82/100\n",
      "7500/7500 [==============================] - 2s 323us/step - loss: 0.3354 - acc: 0.8636\n",
      "Epoch 83/100\n",
      "7500/7500 [==============================] - 2s 317us/step - loss: 0.3346 - acc: 0.8637\n",
      "Epoch 84/100\n",
      "7500/7500 [==============================] - 2s 309us/step - loss: 0.3345 - acc: 0.8592\n",
      "Epoch 85/100\n",
      "7500/7500 [==============================] - 2s 300us/step - loss: 0.3350 - acc: 0.8640\n",
      "Epoch 86/100\n",
      "7500/7500 [==============================] - 2s 295us/step - loss: 0.3346 - acc: 0.8636\n",
      "Epoch 87/100\n",
      "7500/7500 [==============================] - 2s 315us/step - loss: 0.3351 - acc: 0.8613\n",
      "Epoch 88/100\n",
      "7500/7500 [==============================] - 2s 302us/step - loss: 0.3355 - acc: 0.8615\n",
      "Epoch 89/100\n",
      "7500/7500 [==============================] - 2s 314us/step - loss: 0.3348 - acc: 0.8628\n",
      "Epoch 90/100\n",
      "7500/7500 [==============================] - 2s 294us/step - loss: 0.3353 - acc: 0.8603\n",
      "Epoch 91/100\n",
      "7500/7500 [==============================] - 2s 298us/step - loss: 0.3347 - acc: 0.8633\n",
      "Epoch 92/100\n",
      "7500/7500 [==============================] - 2s 300us/step - loss: 0.3343 - acc: 0.8615\n",
      "Epoch 93/100\n",
      "7500/7500 [==============================] - 3s 405us/step - loss: 0.3349 - acc: 0.8607\n",
      "Epoch 94/100\n",
      "7500/7500 [==============================] - 2s 291us/step - loss: 0.3352 - acc: 0.8624\n",
      "Epoch 95/100\n",
      "7500/7500 [==============================] - 2s 291us/step - loss: 0.3342 - acc: 0.8625\n",
      "Epoch 96/100\n",
      "7500/7500 [==============================] - 2s 284us/step - loss: 0.3340 - acc: 0.8624\n",
      "Epoch 97/100\n",
      "7500/7500 [==============================] - 2s 291us/step - loss: 0.3345 - acc: 0.8613\n",
      "Epoch 98/100\n",
      "7500/7500 [==============================] - 4s 519us/step - loss: 0.3334 - acc: 0.8616\n",
      "Epoch 99/100\n",
      "7500/7500 [==============================] - 3s 408us/step - loss: 0.3342 - acc: 0.8607\n",
      "Epoch 100/100\n",
      "7500/7500 [==============================] - 2s 263us/step - loss: 0.3341 - acc: 0.8623 0s - loss: 0.\n"
     ]
    },
    {
     "data": {
      "text/plain": [
       "<keras.callbacks.History at 0x1a23bbe2ba8>"
      ]
     },
     "execution_count": 10,
     "metadata": {},
     "output_type": "execute_result"
    }
   ],
   "source": [
    "classifier.fit(x_train, y_train, batch_size=10, nb_epoch= 100)"
   ]
  },
  {
   "cell_type": "markdown",
   "metadata": {},
   "source": [
    "** Predict Test **"
   ]
  },
  {
   "cell_type": "code",
   "execution_count": 11,
   "metadata": {},
   "outputs": [
    {
     "data": {
      "text/plain": [
       "array([[False],\n",
       "       [False],\n",
       "       [False],\n",
       "       ...,\n",
       "       [False],\n",
       "       [False],\n",
       "       [False]])"
      ]
     },
     "execution_count": 11,
     "metadata": {},
     "output_type": "execute_result"
    }
   ],
   "source": [
    "y_pred = classifier.predict(x_test)\n",
    "y_pred = (y_pred > 0.5)\n",
    "y_pred"
   ]
  },
  {
   "cell_type": "markdown",
   "metadata": {},
   "source": [
    "** Evaluate the preformance **"
   ]
  },
  {
   "cell_type": "code",
   "execution_count": 12,
   "metadata": {},
   "outputs": [
    {
     "data": {
      "text/plain": [
       "array([[1891,  100],\n",
       "       [ 252,  257]], dtype=int64)"
      ]
     },
     "execution_count": 12,
     "metadata": {},
     "output_type": "execute_result"
    }
   ],
   "source": [
    "cm = confusion_matrix(y_true=y_test, y_pred=y_pred)\n",
    "cm"
   ]
  },
  {
   "cell_type": "markdown",
   "metadata": {},
   "source": [
    "** New prediction ** "
   ]
  },
  {
   "cell_type": "code",
   "execution_count": 13,
   "metadata": {},
   "outputs": [
    {
     "name": "stderr",
     "output_type": "stream",
     "text": [
      "C:\\Users\\admin\\Anaconda3\\envs\\tensorflow\\lib\\site-packages\\sklearn\\utils\\validation.py:475: DataConversionWarning: Data with input dtype int32 was converted to float64 by StandardScaler.\n",
      "  warnings.warn(msg, DataConversionWarning)\n"
     ]
    },
    {
     "data": {
      "text/plain": [
       "array([[False]])"
      ]
     },
     "execution_count": 13,
     "metadata": {},
     "output_type": "execute_result"
    }
   ],
   "source": [
    "new_prediction = classifier.predict(sc.transform(np.array([[0,0,600,1,40,3,60000,2,1,1,50000]])))\n",
    "new_prediction = (new_prediction > 0.5)\n",
    "new_prediction"
   ]
  }
 ],
 "metadata": {
  "kernelspec": {
   "display_name": "Python 3",
   "language": "python",
   "name": "python3"
  },
  "language_info": {
   "codemirror_mode": {
    "name": "ipython",
    "version": 3
   },
   "file_extension": ".py",
   "mimetype": "text/x-python",
   "name": "python",
   "nbconvert_exporter": "python",
   "pygments_lexer": "ipython3",
   "version": "3.5.5"
  }
 },
 "nbformat": 4,
 "nbformat_minor": 2
}
