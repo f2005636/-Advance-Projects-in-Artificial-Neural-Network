{
 "cells": [
  {
   "cell_type": "markdown",
   "metadata": {},
   "source": [
    "# CNN"
   ]
  },
  {
   "cell_type": "code",
   "execution_count": 1,
   "metadata": {},
   "outputs": [
    {
     "name": "stderr",
     "output_type": "stream",
     "text": [
      "C:\\Users\\admin\\Anaconda3\\envs\\tensorflow\\lib\\site-packages\\h5py\\__init__.py:36: FutureWarning: Conversion of the second argument of issubdtype from `float` to `np.floating` is deprecated. In future, it will be treated as `np.float64 == np.dtype(float).type`.\n",
      "  from ._conv import register_converters as _register_converters\n",
      "Using TensorFlow backend.\n"
     ]
    }
   ],
   "source": [
    "import numpy as np\n",
    "import pandas as pd\n",
    "import matplotlib.pyplot as plt\n",
    "%matplotlib inline \n",
    "\n",
    "from sklearn.preprocessing import LabelEncoder, OneHotEncoder\n",
    "from sklearn.model_selection import train_test_split\n",
    "from sklearn.preprocessing import StandardScaler\n",
    "from sklearn.metrics import confusion_matrix\n",
    "\n",
    "import keras\n",
    "from keras.preprocessing import image\n",
    "from keras.models import Sequential \n",
    "from keras.layers import Conv2D, MaxPooling2D, Flatten, Dense\n",
    "from keras.preprocessing.image import ImageDataGenerator"
   ]
  },
  {
   "cell_type": "markdown",
   "metadata": {},
   "source": [
    "** 1: Initialize ** \n",
    "** 2: Add CNN ** \n",
    "** 3: Max Pooling ** \n",
    "** 4: Flattening ** \n",
    "** 5: Full Connection ** "
   ]
  },
  {
   "cell_type": "code",
   "execution_count": 2,
   "metadata": {},
   "outputs": [],
   "source": [
    "classifier = Sequential()\n",
    "classifier.add(Conv2D(32, (3, 3), input_shape = (64, 64, 3), activation = 'relu'))\n",
    "classifier.add(MaxPooling2D(pool_size = (2, 2)))\n",
    "classifier.add(Flatten())\n",
    "classifier.add(Dense(units = 128, activation = 'relu'))"
   ]
  },
  {
   "cell_type": "code",
   "execution_count": 3,
   "metadata": {},
   "outputs": [],
   "source": [
    "classifier.add(Dense(units = 1, activation = 'sigmoid'))"
   ]
  },
  {
   "cell_type": "code",
   "execution_count": 4,
   "metadata": {},
   "outputs": [],
   "source": [
    "classifier.compile(optimizer='adam', loss='binary_crossentropy', metrics=['accuracy'])"
   ]
  },
  {
   "cell_type": "markdown",
   "metadata": {},
   "source": [
    "** Fitting the model **"
   ]
  },
  {
   "cell_type": "code",
   "execution_count": 5,
   "metadata": {},
   "outputs": [
    {
     "name": "stdout",
     "output_type": "stream",
     "text": [
      "Found 8000 images belonging to 2 classes.\n",
      "Found 2000 images belonging to 2 classes.\n"
     ]
    }
   ],
   "source": [
    "train_datagen = ImageDataGenerator(rescale = 1/255, shear_range = 0.2, zoom_range = 0.2, horizontal_flip = True)\n",
    "test_datagen = ImageDataGenerator(rescale = 1/255)\n",
    "training_set = train_datagen.flow_from_directory('dataset/training_set', target_size = (64, 64), batch_size = 32, class_mode = 'binary')\n",
    "test_set = test_datagen.flow_from_directory('dataset/test_set', target_size = (64, 64), batch_size = 32, class_mode = 'binary')"
   ]
  },
  {
   "cell_type": "code",
   "execution_count": 6,
   "metadata": {},
   "outputs": [
    {
     "name": "stdout",
     "output_type": "stream",
     "text": [
      "Epoch 1/25\n",
      "8000/8000 [==============================] - 2788s 349ms/step - loss: 0.4088 - acc: 0.8053 - val_loss: 0.6837 - val_acc: 0.7587\n",
      "Epoch 2/25\n",
      "8000/8000 [==============================] - 3230s 404ms/step - loss: 0.1743 - acc: 0.9298 - val_loss: 0.9439 - val_acc: 0.7694\n",
      "Epoch 3/25\n",
      "8000/8000 [==============================] - 2471s 309ms/step - loss: 0.0963 - acc: 0.9640 - val_loss: 1.2786 - val_acc: 0.7544\n",
      "Epoch 4/25\n",
      "8000/8000 [==============================] - 2438s 305ms/step - loss: 0.0668 - acc: 0.9761 - val_loss: 1.4748 - val_acc: 0.7590\n",
      "Epoch 5/25\n",
      "8000/8000 [==============================] - 2438s 305ms/step - loss: 0.0514 - acc: 0.9822 - val_loss: 1.5652 - val_acc: 0.7699\n",
      "Epoch 6/25\n",
      "8000/8000 [==============================] - 2451s 306ms/step - loss: 0.0427 - acc: 0.9856 - val_loss: 1.8163 - val_acc: 0.7547\n",
      "Epoch 7/25\n",
      "8000/8000 [==============================] - 2449s 306ms/step - loss: 0.0359 - acc: 0.9880 - val_loss: 1.9621 - val_acc: 0.7458\n",
      "Epoch 8/25\n",
      "8000/8000 [==============================] - 2454s 307ms/step - loss: 0.0313 - acc: 0.9897 - val_loss: 2.0297 - val_acc: 0.7449\n",
      "Epoch 9/25\n",
      "8000/8000 [==============================] - 2467s 308ms/step - loss: 0.0286 - acc: 0.9909 - val_loss: 1.9661 - val_acc: 0.7560\n",
      "Epoch 10/25\n",
      "8000/8000 [==============================] - 2458s 307ms/step - loss: 0.0244 - acc: 0.9921 - val_loss: 1.7874 - val_acc: 0.7696\n",
      "Epoch 11/25\n",
      "8000/8000 [==============================] - 2451s 306ms/step - loss: 0.0241 - acc: 0.9921 - val_loss: 1.8872 - val_acc: 0.7661\n",
      "Epoch 12/25\n",
      "8000/8000 [==============================] - 2447s 306ms/step - loss: 0.0203 - acc: 0.9934 - val_loss: 2.0137 - val_acc: 0.7611\n",
      "Epoch 13/25\n",
      "8000/8000 [==============================] - 2465s 308ms/step - loss: 0.0200 - acc: 0.9938 - val_loss: 2.1962 - val_acc: 0.7479\n",
      "Epoch 14/25\n",
      "8000/8000 [==============================] - 2450s 306ms/step - loss: 0.0186 - acc: 0.9942 - val_loss: 1.9632 - val_acc: 0.7676\n",
      "Epoch 15/25\n",
      "8000/8000 [==============================] - 4206s 526ms/step - loss: 0.0164 - acc: 0.9948 - val_loss: 2.0815 - val_acc: 0.7555\n",
      "Epoch 16/25\n",
      "8000/8000 [==============================] - 5479s 685ms/step - loss: 0.0161 - acc: 0.9951 - val_loss: 2.1661 - val_acc: 0.7541\n",
      "Epoch 17/25\n",
      "8000/8000 [==============================] - 3631s 454ms/step - loss: 0.0153 - acc: 0.9953 - val_loss: 2.1264 - val_acc: 0.7706\n",
      "Epoch 18/25\n",
      "8000/8000 [==============================] - 2460s 308ms/step - loss: 0.0149 - acc: 0.9955 - val_loss: 2.1977 - val_acc: 0.7594\n",
      "Epoch 19/25\n",
      "8000/8000 [==============================] - 3829s 479ms/step - loss: 0.0139 - acc: 0.9957 - val_loss: 2.2174 - val_acc: 0.7554\n",
      "Epoch 20/25\n",
      "8000/8000 [==============================] - 2603s 325ms/step - loss: 0.0125 - acc: 0.9961 - val_loss: 2.2407 - val_acc: 0.7657\n",
      "Epoch 21/25\n",
      "8000/8000 [==============================] - 2432s 304ms/step - loss: 0.0132 - acc: 0.9960 - val_loss: 2.2475 - val_acc: 0.7487\n",
      "Epoch 22/25\n",
      "8000/8000 [==============================] - 2432s 304ms/step - loss: 0.0113 - acc: 0.9965 - val_loss: 2.4482 - val_acc: 0.7365\n",
      "Epoch 23/25\n",
      "8000/8000 [==============================] - 2433s 304ms/step - loss: 0.0114 - acc: 0.9965 - val_loss: 2.2211 - val_acc: 0.7620\n",
      "Epoch 24/25\n",
      "8000/8000 [==============================] - 2464s 308ms/step - loss: 0.0108 - acc: 0.9967 - val_loss: 2.4168 - val_acc: 0.7542\n",
      "Epoch 25/25\n",
      "8000/8000 [==============================] - 2444s 306ms/step - loss: 0.0101 - acc: 0.9967 - val_loss: 2.5266 - val_acc: 0.7450\n"
     ]
    },
    {
     "data": {
      "text/plain": [
       "<keras.callbacks.History at 0x1dd7e4c3940>"
      ]
     },
     "execution_count": 6,
     "metadata": {},
     "output_type": "execute_result"
    }
   ],
   "source": [
    "classifier.fit_generator(training_set, steps_per_epoch = 8000, epochs = 25, validation_data = test_set, validation_steps = 2000)"
   ]
  },
  {
   "cell_type": "markdown",
   "metadata": {},
   "source": [
    "** New prediction ** "
   ]
  },
  {
   "cell_type": "code",
   "execution_count": 7,
   "metadata": {},
   "outputs": [],
   "source": [
    "test_image = image.load_img('dataset/single_prediction/cat_or_dog_1.jpg', target_size = (64, 64))\n",
    "test_image = image.img_to_array(test_image)\n",
    "test_image = np.expand_dims(test_image, axis = 0)\n",
    "result = classifier.predict(test_image)\n",
    "training_set.class_indices\n",
    "if result[0][0] == 1:\n",
    "    prediction = 'dog'\n",
    "else:\n",
    "    prediction = 'cat'"
   ]
  },
  {
   "cell_type": "code",
   "execution_count": 8,
   "metadata": {},
   "outputs": [
    {
     "data": {
      "text/plain": [
       "'dog'"
      ]
     },
     "execution_count": 8,
     "metadata": {},
     "output_type": "execute_result"
    }
   ],
   "source": [
    "prediction"
   ]
  },
  {
   "cell_type": "code",
   "execution_count": 9,
   "metadata": {},
   "outputs": [],
   "source": [
    "test_image = image.load_img('dataset/single_prediction/cat_or_dog_2.jpg', target_size = (64, 64))\n",
    "test_image = image.img_to_array(test_image)\n",
    "test_image = np.expand_dims(test_image, axis = 0)\n",
    "result = classifier.predict(test_image)\n",
    "training_set.class_indices\n",
    "if result[0][0] == 1:\n",
    "    prediction = 'dog'\n",
    "else:\n",
    "    prediction = 'cat'"
   ]
  },
  {
   "cell_type": "code",
   "execution_count": 10,
   "metadata": {},
   "outputs": [
    {
     "data": {
      "text/plain": [
       "'dog'"
      ]
     },
     "execution_count": 10,
     "metadata": {},
     "output_type": "execute_result"
    }
   ],
   "source": [
    "prediction"
   ]
  }
 ],
 "metadata": {
  "kernelspec": {
   "display_name": "Python 3",
   "language": "python",
   "name": "python3"
  },
  "language_info": {
   "codemirror_mode": {
    "name": "ipython",
    "version": 3
   },
   "file_extension": ".py",
   "mimetype": "text/x-python",
   "name": "python",
   "nbconvert_exporter": "python",
   "pygments_lexer": "ipython3",
   "version": "3.5.5"
  }
 },
 "nbformat": 4,
 "nbformat_minor": 2
}
